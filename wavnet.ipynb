{
 "cells": [
  {
   "cell_type": "code",
   "execution_count": null,
   "metadata": {},
   "outputs": [],
   "source": []
  },
  {
   "cell_type": "markdown",
   "metadata": {},
   "source": [
    "# wave net \n",
    "Try to predict audio sequencies, \n",
    "\n",
    "Auto agresive \n",
    "\n",
    "try to predict next char \n",
    "\n",
    "tree like herachical maner, we fuze the informtaion from the previous context  slowly, when we get deeper \n",
    "\n",
    "progressive fuzion \n",
    "\n",
    "make network deeper and in each level we want to fuzze two consactivate elements  \n",
    " - to char, then \n",
    " - to biagrams, then\n",
    " - to 3th grams and so on ..\n",
    "\n"
   ]
  },
  {
   "cell_type": "code",
   "execution_count": 1,
   "metadata": {},
   "outputs": [],
   "source": [
    "import torch\n",
    "import torch.nn.functional as F\n",
    "import matplotlib.pyplot as plt\n"
   ]
  },
  {
   "cell_type": "code",
   "execution_count": 2,
   "metadata": {},
   "outputs": [
    {
     "data": {
      "text/plain": [
       "['emma', 'olivia', 'ava', 'isabella']"
      ]
     },
     "execution_count": 2,
     "metadata": {},
     "output_type": "execute_result"
    }
   ],
   "source": [
    "words = open('names.txt', 'r').read().splitlines()\n",
    "words[:4]"
   ]
  },
  {
   "cell_type": "code",
   "execution_count": 3,
   "metadata": {},
   "outputs": [
    {
     "name": "stdout",
     "output_type": "stream",
     "text": [
      "{1: 'a', 2: 'b', 3: 'c', 4: 'd', 5: 'e', 6: 'f', 7: 'g', 8: 'h', 9: 'i', 10: 'j', 11: 'k', 12: 'l', 13: 'm', 14: 'n', 15: 'o', 16: 'p', 17: 'q', 18: 'r', 19: 's', 20: 't', 21: 'u', 22: 'v', 23: 'w', 24: 'x', 25: 'y', 26: 'z', 0: '.'}\n",
      "27\n"
     ]
    }
   ],
   "source": [
    "chars = sorted(list(set(''.join(words))))\n",
    "stoi = {s:i+1 for i,s in enumerate(chars)}\n",
    "stoi['.'] = 0\n",
    "itos = {i:s for s,i in stoi.items()}\n",
    "vocab_size = len(itos)\n",
    "print(itos)\n",
    "print(vocab_size)\n"
   ]
  },
  {
   "cell_type": "code",
   "execution_count": 37,
   "metadata": {},
   "outputs": [
    {
     "name": "stdout",
     "output_type": "stream",
     "text": [
      "torch.Size([182580, 8]) torch.Size([182580])\n",
      "torch.Size([22767, 8]) torch.Size([22767])\n",
      "torch.Size([22799, 8]) torch.Size([22799])\n"
     ]
    }
   ],
   "source": [
    "# build the dataset\n",
    "block_size = 8 # context length: how many characters do we take to predict the next one?\n",
    "\n",
    "def build_dataset(words):  \n",
    "  X, Y = [], []\n",
    "  \n",
    "  for w in words:\n",
    "    context = [0] * block_size\n",
    "    for ch in w + '.':\n",
    "      ix = stoi[ch]\n",
    "      X.append(context)\n",
    "      Y.append(ix)\n",
    "      context = context[1:] + [ix] # crop and append\n",
    "\n",
    "  X = torch.tensor(X)\n",
    "  Y = torch.tensor(Y)\n",
    "  print(X.shape, Y.shape)\n",
    "  return X, Y\n",
    "\n",
    "import random\n",
    "random.seed(42)\n",
    "random.shuffle(words)\n",
    "n1 = int(0.8*len(words))\n",
    "n2 = int(0.9*len(words))\n",
    "\n",
    "Xtr,  Ytr  = build_dataset(words[:n1])     # 80%\n",
    "Xdev, Ydev = build_dataset(words[n1:n2])   # 10%\n",
    "Xte,  Yte  = build_dataset(words[n2:])     # 10%\n"
   ]
  },
  {
   "cell_type": "code",
   "execution_count": 41,
   "metadata": {},
   "outputs": [
    {
     "name": "stdout",
     "output_type": "stream",
     "text": [
      "['.', '.', '.', '.', '.', '.', '.', '.']--->e\n",
      "['.', '.', '.', '.', '.', '.', '.', 'e']--->b\n",
      "['.', '.', '.', '.', '.', '.', 'e', 'b']--->r\n",
      "['.', '.', '.', '.', '.', 'e', 'b', 'r']--->i\n",
      "['.', '.', '.', '.', 'e', 'b', 'r', 'i']--->m\n",
      "['.', '.', '.', 'e', 'b', 'r', 'i', 'm']--->a\n",
      "['.', '.', 'e', 'b', 'r', 'i', 'm', 'a']--->.\n",
      "['.', '.', '.', '.', '.', '.', '.', '.']--->h\n",
      "['.', '.', '.', '.', '.', '.', '.', 'h']--->i\n",
      "['.', '.', '.', '.', '.', '.', 'h', 'i']--->l\n",
      "['.', '.', '.', '.', '.', 'h', 'i', 'l']--->t\n",
      "['.', '.', '.', '.', 'h', 'i', 'l', 't']--->o\n",
      "['.', '.', '.', 'h', 'i', 'l', 't', 'o']--->n\n",
      "['.', '.', 'h', 'i', 'l', 't', 'o', 'n']--->.\n",
      "['.', '.', '.', '.', '.', '.', '.', '.']--->j\n",
      "['.', '.', '.', '.', '.', '.', '.', 'j']--->h\n",
      "['.', '.', '.', '.', '.', '.', 'j', 'h']--->e\n",
      "['.', '.', '.', '.', '.', 'j', 'h', 'e']--->n\n",
      "['.', '.', '.', '.', 'j', 'h', 'e', 'n']--->e\n",
      "['.', '.', '.', 'j', 'h', 'e', 'n', 'e']--->.\n"
     ]
    }
   ],
   "source": [
    "for x,y in zip(Xtr[:20], Ytr[:20]):\n",
    "    print(f'{[itos[ix.item()] for ix in x]}--->{itos[y.item()]}')"
   ]
  },
  {
   "cell_type": "code",
   "execution_count": 98,
   "metadata": {},
   "outputs": [],
   "source": [
    "class Linear:\n",
    "    def __init__(self, in_fetures, out_fetures, bias=True): #fanin fanout\n",
    "        self.weight = torch.randn((in_fetures, out_fetures)) /(in_fetures**0.5)\n",
    "        self.bias = torch.randn(out_fetures) if bias else None\n",
    "\n",
    "    def __call__(self, x):\n",
    "        self.out = x @ self.weight\n",
    "        if self.bias is not None: self.out += self.bias\n",
    "        return self.out\n",
    "    \n",
    "    def parameters(self):\n",
    "        return [self.weight] + ([] if self.bias is None else [self.bias])\n",
    "\n",
    "\n",
    "class BatchNorm1d:\n",
    "    def __init__(self, in_features, eps=1e-5, momentum=0.1):\n",
    "        self.eps = eps\n",
    "        self.learning_mode = True\n",
    "        self.momentum = momentum\n",
    "        \n",
    "        self.gamma = torch.ones((1, in_features))\n",
    "        self.beta = torch.zeros((1, in_features))        \n",
    "        \n",
    "        self.bnmean_running = torch.ones((1, in_features))\n",
    "        self.bnvar_running = torch.zeros((1, in_features))\n",
    "\n",
    "    def __call__(self, x):\n",
    "        if self.learning_mode:\n",
    "            if x.ndim == 2:\n",
    "                dim = 0\n",
    "            elif x.ndim==3:\n",
    "                dim = (0,1)\n",
    "\n",
    "            meani = x.mean(dim, keepdim=True)\n",
    "            vari = x.var(dim, keepdim=True)\n",
    "            self.out = self.gamma * (x-meani)/torch.sqrt(vari + self.eps) + self.beta\n",
    "            with torch.no_grad():\n",
    "                self.bnmean_running = (1-self.momentum) * self.bnmean_running + self.momentum * meani\n",
    "                self.bnvar_running = (1-self.momentum) * self.bnvar_running + self.momentum * vari\n",
    "        \n",
    "        else: \n",
    "            self.out = self.gamma * (x-self.bnmean_running)/torch.sqrt(self.bnvar_running + self.eps) + self.beta\n",
    "\n",
    "        return self.out\n",
    "    \n",
    "    def parameters(self):\n",
    "        return [self.gamma, self.beta]\n",
    "            \n",
    "class Tanh:\n",
    "    def __call__(self, x):\n",
    "        self.out = torch.tanh(x)\n",
    "        return self.out \n",
    "    def parameters(self):\n",
    "        return []\n",
    "    \n",
    "class Embedding:\n",
    "    def __init__(self, num_embeddings, embedding_dim):\n",
    "        self.weight = torch.randn((num_embeddings, embedding_dim))\n",
    "        \n",
    "    def __call__(self, x):\n",
    "        self.out = self.weight[x]\n",
    "        return self.out\n",
    "\n",
    "    def parameters(self):\n",
    "        return [self.weight]\n",
    "\n",
    "class FlatternConsecutive:    \n",
    "    def __init__(self, n):\n",
    "        self.n = n\n",
    "\n",
    "    def __call__(self, x):\n",
    "        B, T, C = x.shape\n",
    "        x = x.view((B, T//self.n, C*self.n))\n",
    "\n",
    "        if x.shape[1]==1:\n",
    "            x = x.squeeze(1)\n",
    "        self.out = x # view is very cheep in torch becouse its not alacoete new memory \n",
    "        return self.out\n",
    "    \n",
    "    def parameters(self):\n",
    "        return []\n",
    "    \n",
    "class Sequential:\n",
    "    def __init__(self, layers):\n",
    "        self.layers = layers\n",
    "\n",
    "    def __call__(self, x):\n",
    "        for layer in self.layers:\n",
    "            x = layer(x)\n",
    "        self.out = x\n",
    "        return self.out\n",
    "    \n",
    "    def parameters(self):\n",
    "        return [parameter for layer in self.layers for parameter in layer.parameters()]\n"
   ]
  },
  {
   "cell_type": "code",
   "execution_count": 102,
   "metadata": {},
   "outputs": [
    {
     "data": {
      "text/plain": [
       "<torch._C.Generator at 0x7f541f302530>"
      ]
     },
     "execution_count": 102,
     "metadata": {},
     "output_type": "execute_result"
    }
   ],
   "source": [
    "torch.manual_seed(42)"
   ]
  },
  {
   "cell_type": "code",
   "execution_count": 103,
   "metadata": {},
   "outputs": [
    {
     "name": "stdout",
     "output_type": "stream",
     "text": [
      "22397\n"
     ]
    }
   ],
   "source": [
    "n_embd = 10 # the dimensionality of the character embedding vectors\n",
    "n_hidden = 68 # the number of neurons in the hidden layer of the MLP\n",
    "\n",
    "\n",
    "model = Sequential([\n",
    "  Embedding(vocab_size, n_embd), \n",
    "  FlatternConsecutive(2), Linear(n_embd * 2, n_hidden, bias=False), BatchNorm1d(n_hidden), Tanh(),\n",
    "  FlatternConsecutive(2), Linear(n_hidden * 2, n_hidden, bias=False), BatchNorm1d(n_hidden), Tanh(),\n",
    "  FlatternConsecutive(2), Linear(n_hidden * 2, n_hidden, bias=False), BatchNorm1d(n_hidden), Tanh(),\n",
    "  \n",
    "  Linear(n_hidden, vocab_size)\n",
    "])\n",
    "\n",
    "# with torch.no_grad():\n",
    "#   model.layers[-1].weight *= 0.1\n",
    "\n",
    "parameters = model.parameters()\n",
    "print(sum(p.nelement() for p in parameters)) # number of parameters in total\n",
    "for p in parameters:\n",
    "  p.requires_grad = True"
   ]
  },
  {
   "cell_type": "code",
   "execution_count": 104,
   "metadata": {},
   "outputs": [
    {
     "name": "stdout",
     "output_type": "stream",
     "text": [
      "loss=tensor(4.0528, grad_fn=<NllLossBackward0>)\n",
      "      0/ 200000 4.0528\n",
      "   1000/ 200000 2.4506\n",
      "   2000/ 200000 2.2692\n",
      "   3000/ 200000 2.2874\n",
      "   4000/ 200000 2.9269\n",
      "   5000/ 200000 2.5494\n",
      "   6000/ 200000 2.2390\n",
      "   7000/ 200000 2.0130\n",
      "   8000/ 200000 1.8556\n",
      "   9000/ 200000 1.9130\n",
      "loss=tensor(2.1578, grad_fn=<NllLossBackward0>)\n",
      "  10000/ 200000 2.1578\n",
      "  11000/ 200000 2.2118\n",
      "  12000/ 200000 1.8797\n",
      "  13000/ 200000 2.5067\n",
      "  14000/ 200000 1.6593\n",
      "  15000/ 200000 2.7384\n",
      "  16000/ 200000 2.3593\n",
      "  17000/ 200000 2.1655\n",
      "  18000/ 200000 1.8675\n",
      "  19000/ 200000 2.0094\n",
      "loss=tensor(2.5660, grad_fn=<NllLossBackward0>)\n",
      "  20000/ 200000 2.5660\n",
      "  21000/ 200000 1.8608\n",
      "  22000/ 200000 2.3028\n",
      "  23000/ 200000 2.2074\n",
      "  24000/ 200000 1.8252\n",
      "  25000/ 200000 2.3777\n",
      "  26000/ 200000 1.9705\n",
      "  27000/ 200000 2.2634\n",
      "  28000/ 200000 1.8007\n",
      "  29000/ 200000 1.8279\n",
      "loss=tensor(1.7431, grad_fn=<NllLossBackward0>)\n",
      "  30000/ 200000 1.7431\n",
      "  31000/ 200000 2.3288\n",
      "  32000/ 200000 2.1694\n",
      "  33000/ 200000 2.5838\n",
      "  34000/ 200000 1.8304\n",
      "  35000/ 200000 2.0335\n",
      "  36000/ 200000 2.2089\n",
      "  37000/ 200000 1.9728\n",
      "  38000/ 200000 1.7202\n",
      "  39000/ 200000 2.2203\n",
      "loss=tensor(2.1601, grad_fn=<NllLossBackward0>)\n",
      "  40000/ 200000 2.1601\n",
      "  41000/ 200000 1.6116\n",
      "  42000/ 200000 2.1083\n",
      "  43000/ 200000 1.6992\n",
      "  44000/ 200000 2.2181\n",
      "  45000/ 200000 1.9798\n",
      "  46000/ 200000 1.9674\n",
      "  47000/ 200000 1.9614\n",
      "  48000/ 200000 2.4107\n",
      "  49000/ 200000 1.8678\n",
      "loss=tensor(1.8542, grad_fn=<NllLossBackward0>)\n",
      "  50000/ 200000 1.8542\n",
      "  51000/ 200000 1.9811\n",
      "  52000/ 200000 2.2039\n",
      "  53000/ 200000 2.1649\n",
      "  54000/ 200000 2.0331\n",
      "  55000/ 200000 1.8157\n",
      "  56000/ 200000 2.4177\n",
      "  57000/ 200000 2.1052\n",
      "  58000/ 200000 1.9825\n",
      "  59000/ 200000 2.1678\n",
      "loss=tensor(1.8452, grad_fn=<NllLossBackward0>)\n",
      "  60000/ 200000 1.8452\n",
      "  61000/ 200000 2.2480\n",
      "  62000/ 200000 2.0761\n",
      "  63000/ 200000 1.8899\n",
      "  64000/ 200000 2.1302\n",
      "  65000/ 200000 2.2851\n",
      "  66000/ 200000 2.0777\n",
      "  67000/ 200000 2.1136\n",
      "  68000/ 200000 1.8963\n",
      "  69000/ 200000 2.1813\n",
      "loss=tensor(2.0788, grad_fn=<NllLossBackward0>)\n",
      "  70000/ 200000 2.0788\n",
      "  71000/ 200000 2.1868\n",
      "  72000/ 200000 1.7673\n",
      "  73000/ 200000 1.7667\n",
      "  74000/ 200000 2.0943\n",
      "  75000/ 200000 1.5608\n",
      "  76000/ 200000 2.0133\n",
      "  77000/ 200000 1.7457\n",
      "  78000/ 200000 1.8625\n",
      "  79000/ 200000 1.7109\n",
      "loss=tensor(1.6063, grad_fn=<NllLossBackward0>)\n",
      "  80000/ 200000 1.6063\n",
      "  81000/ 200000 1.5250\n",
      "  82000/ 200000 2.0210\n",
      "  83000/ 200000 2.0928\n",
      "  84000/ 200000 2.2301\n",
      "  85000/ 200000 2.5887\n",
      "  86000/ 200000 2.1217\n",
      "  87000/ 200000 2.1318\n",
      "  88000/ 200000 2.1682\n",
      "  89000/ 200000 2.1871\n",
      "loss=tensor(1.7364, grad_fn=<NllLossBackward0>)\n",
      "  90000/ 200000 1.7364\n",
      "  91000/ 200000 2.0745\n",
      "  92000/ 200000 2.2131\n",
      "  93000/ 200000 2.3501\n",
      "  94000/ 200000 1.9423\n",
      "  95000/ 200000 1.8911\n",
      "  96000/ 200000 2.0390\n",
      "  97000/ 200000 1.9985\n",
      "  98000/ 200000 2.0409\n",
      "  99000/ 200000 2.1748\n",
      "loss=tensor(2.2606, grad_fn=<NllLossBackward0>)\n",
      " 100000/ 200000 2.2606\n",
      " 101000/ 200000 1.9779\n",
      " 102000/ 200000 2.2878\n",
      " 103000/ 200000 2.0243\n",
      " 104000/ 200000 1.8299\n",
      " 105000/ 200000 1.7697\n",
      " 106000/ 200000 1.5656\n",
      " 107000/ 200000 1.9138\n",
      " 108000/ 200000 2.1618\n",
      " 109000/ 200000 1.9642\n",
      "loss=tensor(1.7993, grad_fn=<NllLossBackward0>)\n",
      " 110000/ 200000 1.7993\n",
      " 111000/ 200000 2.2589\n",
      " 112000/ 200000 2.0777\n",
      " 113000/ 200000 2.1723\n",
      " 114000/ 200000 2.2597\n",
      " 115000/ 200000 1.7592\n",
      " 116000/ 200000 1.9683\n",
      " 117000/ 200000 2.3684\n",
      " 118000/ 200000 1.7275\n",
      " 119000/ 200000 1.8199\n",
      "loss=tensor(1.9912, grad_fn=<NllLossBackward0>)\n",
      " 120000/ 200000 1.9912\n",
      " 121000/ 200000 1.9944\n",
      " 122000/ 200000 2.2146\n",
      " 123000/ 200000 1.6656\n",
      " 124000/ 200000 1.8232\n",
      " 125000/ 200000 2.3109\n",
      " 126000/ 200000 1.5350\n",
      " 127000/ 200000 2.0102\n",
      " 128000/ 200000 1.9443\n",
      " 129000/ 200000 2.1834\n",
      "loss=tensor(2.3799, grad_fn=<NllLossBackward0>)\n",
      " 130000/ 200000 2.3799\n",
      " 131000/ 200000 1.9504\n",
      " 132000/ 200000 1.8320\n",
      " 133000/ 200000 2.4086\n",
      " 134000/ 200000 2.0267\n",
      " 135000/ 200000 2.3487\n",
      " 136000/ 200000 2.1227\n",
      " 137000/ 200000 1.8857\n",
      " 138000/ 200000 1.6009\n",
      " 139000/ 200000 2.1954\n",
      "loss=tensor(1.9569, grad_fn=<NllLossBackward0>)\n",
      " 140000/ 200000 1.9569\n",
      " 141000/ 200000 1.5699\n",
      " 142000/ 200000 1.8063\n",
      " 143000/ 200000 2.4285\n",
      " 144000/ 200000 1.8627\n",
      " 145000/ 200000 1.8412\n",
      " 146000/ 200000 1.9740\n",
      " 147000/ 200000 2.3503\n",
      " 148000/ 200000 1.9167\n",
      " 149000/ 200000 1.8287\n",
      "loss=tensor(2.0269, grad_fn=<NllLossBackward0>)\n",
      " 150000/ 200000 2.0269\n",
      " 151000/ 200000 2.1203\n",
      " 152000/ 200000 1.6933\n",
      " 153000/ 200000 2.2296\n",
      " 154000/ 200000 2.0504\n",
      " 155000/ 200000 2.0241\n",
      " 156000/ 200000 2.0841\n",
      " 157000/ 200000 1.7191\n",
      " 158000/ 200000 2.0719\n",
      " 159000/ 200000 2.0315\n",
      "loss=tensor(2.1635, grad_fn=<NllLossBackward0>)\n",
      " 160000/ 200000 2.1635\n",
      " 161000/ 200000 2.2045\n",
      " 162000/ 200000 2.1936\n",
      " 163000/ 200000 1.6351\n",
      " 164000/ 200000 2.1564\n",
      " 165000/ 200000 1.9463\n",
      " 166000/ 200000 1.9187\n",
      " 167000/ 200000 2.2599\n",
      " 168000/ 200000 2.4224\n",
      " 169000/ 200000 1.7878\n",
      "loss=tensor(2.2179, grad_fn=<NllLossBackward0>)\n",
      " 170000/ 200000 2.2179\n",
      " 171000/ 200000 1.9902\n",
      " 172000/ 200000 1.9154\n",
      " 173000/ 200000 2.1221\n",
      " 174000/ 200000 1.9021\n",
      " 175000/ 200000 1.9242\n",
      " 176000/ 200000 1.7253\n",
      " 177000/ 200000 1.8006\n",
      " 178000/ 200000 2.1254\n",
      " 179000/ 200000 1.9452\n",
      "loss=tensor(2.1620, grad_fn=<NllLossBackward0>)\n",
      " 180000/ 200000 2.1620\n",
      " 181000/ 200000 1.8257\n",
      " 182000/ 200000 1.8388\n",
      " 183000/ 200000 1.7792\n",
      " 184000/ 200000 1.8614\n",
      " 185000/ 200000 1.9169\n",
      " 186000/ 200000 1.9480\n",
      " 187000/ 200000 1.5451\n",
      " 188000/ 200000 1.8644\n",
      " 189000/ 200000 1.8695\n",
      "loss=tensor(1.8378, grad_fn=<NllLossBackward0>)\n",
      " 190000/ 200000 1.8378\n",
      " 191000/ 200000 1.8995\n",
      " 192000/ 200000 2.2069\n",
      " 193000/ 200000 1.8443\n",
      " 194000/ 200000 2.1445\n",
      " 195000/ 200000 2.0279\n",
      " 196000/ 200000 1.6606\n",
      " 197000/ 200000 2.0049\n",
      " 198000/ 200000 1.8485\n",
      " 199000/ 200000 1.9140\n"
     ]
    }
   ],
   "source": [
    "max_steps = 200000\n",
    "batch_size = 32\n",
    "lossi = []\n",
    "\n",
    "for i in range(max_steps):\n",
    "    ix = torch.randint(0, Xtr.shape[0], (batch_size,))\n",
    "    Xb, Yb = Xtr[ix], Ytr[ix]\n",
    "\n",
    "    logits = model(Xb)\n",
    "    \n",
    "    loss = F.cross_entropy(logits, Yb)\n",
    "    if i%10000==0:\n",
    "        print(f'{loss=}')\n",
    "    \n",
    "    for p in parameters:\n",
    "        p.grad = None\n",
    "\n",
    "    loss.backward()\n",
    "\n",
    "    lr = -0.1 if i <150000 else -0.01\n",
    "    for p in parameters:\n",
    "        p.data += lr * p.grad \n",
    "\n",
    "    if i % 1000 == 0:\n",
    "        print(f'{i:7d}/{max_steps:7d} {loss.item():.4f}')\n",
    "    \n",
    "    lossi.append(loss.log10().item())\n",
    "    "
   ]
  },
  {
   "cell_type": "code",
   "execution_count": 106,
   "metadata": {},
   "outputs": [
    {
     "data": {
      "text/plain": [
       "[<matplotlib.lines.Line2D at 0x7f536fe08690>]"
      ]
     },
     "execution_count": 106,
     "metadata": {},
     "output_type": "execute_result"
    },
    {
     "data": {
      "image/png": "[encoded data removed]",
      "text/plain": [
       "<Figure size 640x480 with 1 Axes>"
      ]
     },
     "metadata": {},
     "output_type": "display_data"
    }
   ],
   "source": [
    "plt.plot(torch.tensor(lossi).view(-1,1000).mean(1))"
   ]
  },
  {
   "cell_type": "code",
   "execution_count": 107,
   "metadata": {},
   "outputs": [],
   "source": [
    "for layer in model.layers:\n",
    "    layer.learning_mode = False"
   ]
  },
  {
   "cell_type": "code",
   "execution_count": 108,
   "metadata": {},
   "outputs": [
    {
     "name": "stdout",
     "output_type": "stream",
     "text": [
      "train 1.911248803138733\n",
      "val 2.0149857997894287\n"
     ]
    }
   ],
   "source": [
    "@torch.no_grad() # this decorator disables gradient tracking\n",
    "def split_loss(split):\n",
    "  x,y = {\n",
    "    'train': (Xtr, Ytr),\n",
    "    'val': (Xdev, Ydev),\n",
    "    'test': (Xte, Yte),\n",
    "  }[split]\n",
    "  logits = model(x)\n",
    "  loss = F.cross_entropy(logits, y)\n",
    "  print(split, loss.item())\n",
    "\n",
    "split_loss('train')\n",
    "split_loss('val')\n"
   ]
  },
  {
   "cell_type": "code",
   "execution_count": 93,
   "metadata": {},
   "outputs": [
    {
     "data": {
      "text/plain": [
       "torch.Size([32, 4, 68])"
      ]
     },
     "execution_count": 93,
     "metadata": {},
     "output_type": "execute_result"
    }
   ],
   "source": [
    "#batch norm bag \n",
    "e = torch.randn(32, 4, 68)\n",
    "emean = e.mean(0, keepdim=True)\n",
    "evar = e.var(0, keepdim=True)\n",
    "ehat = (e - emean) / torch.sqrt(evar + 1e-5)\n",
    "ehat.shape"
   ]
  },
  {
   "cell_type": "code",
   "execution_count": 94,
   "metadata": {},
   "outputs": [
    {
     "data": {
      "text/plain": [
       "torch.Size([1, 4, 68])"
      ]
     },
     "execution_count": 94,
     "metadata": {},
     "output_type": "execute_result"
    }
   ],
   "source": [
    "model.layers[3].bnmean_running.shape"
   ]
  },
  {
   "cell_type": "code",
   "execution_count": 96,
   "metadata": {},
   "outputs": [
    {
     "data": {
      "text/plain": [
       "torch.Size([1, 4, 68])"
      ]
     },
     "execution_count": 96,
     "metadata": {},
     "output_type": "execute_result"
    }
   ],
   "source": [
    "e.mean(0, keepdim=True).shape"
   ]
  },
  {
   "cell_type": "code",
   "execution_count": 97,
   "metadata": {},
   "outputs": [
    {
     "data": {
      "text/plain": [
       "torch.Size([1, 1, 68])"
      ]
     },
     "execution_count": 97,
     "metadata": {},
     "output_type": "execute_result"
    }
   ],
   "source": [
    "e.mean((0, 1), keepdim=True).shape"
   ]
  },
  {
   "cell_type": "code",
   "execution_count": 83,
   "metadata": {},
   "outputs": [
    {
     "name": "stdout",
     "output_type": "stream",
     "text": [
      "torch.Size([4, 8])\n"
     ]
    },
    {
     "data": {
      "text/plain": [
       "tensor([[ 0,  0,  0,  0,  0,  0,  0,  0],\n",
       "        [ 0,  0,  3, 15, 12, 20, 18,  1],\n",
       "        [ 0,  0,  0,  0,  0, 20, 25, 18],\n",
       "        [ 0,  0,  0,  0, 15, 13,  1, 18]])"
      ]
     },
     "execution_count": 83,
     "metadata": {},
     "output_type": "execute_result"
    }
   ],
   "source": [
    "# wave net \n",
    "\n",
    "ix = torch.randint(0, Xtr.shape[0], (4,))\n",
    "Xb, Yb = Xtr[ix], Ytr[ix]\n",
    "logits = model(Xb)\n",
    "print(Xb.shape)\n",
    "Xb"
   ]
  },
  {
   "cell_type": "code",
   "execution_count": 57,
   "metadata": {},
   "outputs": [
    {
     "name": "stdout",
     "output_type": "stream",
     "text": [
      "torch.Size([4, 8, 10])\n"
     ]
    }
   ],
   "source": [
    "print(model.layers[0].out.shape) \n",
    "# embedding layer, for ech character have 10 dementional vactor, witch we are tring to learn\n",
    "# plags out the embedding vactor for each one of this integeers "
   ]
  },
  {
   "cell_type": "code",
   "execution_count": 58,
   "metadata": {},
   "outputs": [
    {
     "name": "stdout",
     "output_type": "stream",
     "text": [
      "torch.Size([4, 80])\n"
     ]
    }
   ],
   "source": [
    "print(model.layers[1].out.shape) # flatten layer \n",
    "# it views this tensor as 4x80 tensor \n",
    "# all this 10 demensional embeddings, all this 8 characters, just end up being strech up in to a long row \n",
    "# a bit like concataonation operation "
   ]
  },
  {
   "cell_type": "code",
   "execution_count": 56,
   "metadata": {},
   "outputs": [
    {
     "name": "stdout",
     "output_type": "stream",
     "text": [
      "torch.Size([4, 200])\n"
     ]
    }
   ],
   "source": [
    "print(model.layers[2].out.shape) # Linear layer \n",
    "# takes 80 and creates 200 chanegl just by matrix mult "
   ]
  },
  {
   "cell_type": "code",
   "execution_count": 61,
   "metadata": {},
   "outputs": [
    {
     "data": {
      "text/plain": [
       "torch.Size([4, 200])"
      ]
     },
     "execution_count": 61,
     "metadata": {},
     "output_type": "execute_result"
    }
   ],
   "source": [
    "(torch.randn((4,80)) @ torch.randn((80, 200)) + torch.randn((200))).shape"
   ]
  },
  {
   "cell_type": "code",
   "execution_count": 66,
   "metadata": {},
   "outputs": [
    {
     "data": {
      "text/plain": [
       "torch.Size([4, 5, 6, 200])"
      ]
     },
     "execution_count": 66,
     "metadata": {},
     "output_type": "execute_result"
    }
   ],
   "source": [
    "# (4,80) dosnt need to be 2d \n",
    "# @ in pytoch is powerfool\n",
    "# only last one, left unchange  \n",
    "(torch.randn((4, 5, 6, 80)) @ torch.randn((80, 200)) + torch.randn((200))).shape"
   ]
  },
  {
   "cell_type": "code",
   "execution_count": 67,
   "metadata": {},
   "outputs": [
    {
     "data": {
      "text/plain": [
       "torch.Size([4, 4, 200])"
      ]
     },
     "execution_count": 67,
     "metadata": {},
     "output_type": "execute_result"
    }
   ],
   "source": [
    "# (1 2) (3 4) (5 6) (7 8) (9 10)\n",
    "# four groups of two, and each one of it is 10d vector \n",
    "# we need to change flatten layer \n",
    "(torch.randn((4, 4, 20)) @ torch.randn((20, 200)) + torch.randn((200))).shape"
   ]
  },
  {
   "cell_type": "code",
   "execution_count": 68,
   "metadata": {},
   "outputs": [
    {
     "data": {
      "text/plain": [
       "torch.Size([4, 80])"
      ]
     },
     "execution_count": 68,
     "metadata": {},
     "output_type": "execute_result"
    }
   ],
   "source": [
    "e = torch.randn(4, 8, 10) # goal: whant to be 4, 4, 20 where 10d vectos are concataena\n",
    "e.view(4, -1).shape # currently"
   ]
  },
  {
   "cell_type": "code",
   "execution_count": 73,
   "metadata": {},
   "outputs": [],
   "source": [
    "torch.cat([e[:, ::2, :], e[:, 1::2, :]], dim=2).shape # gives all even character and after that all add caracters \n",
    "expl = torch.cat([e[:, ::2, :], e[:, 1::2, :]], dim=2)"
   ]
  },
  {
   "cell_type": "code",
   "execution_count": 76,
   "metadata": {},
   "outputs": [
    {
     "data": {
      "text/plain": [
       "tensor(True)"
      ]
     },
     "execution_count": 76,
     "metadata": {},
     "output_type": "execute_result"
    }
   ],
   "source": [
    "(e.view(4,4,20) == expl).all()"
   ]
  },
  {
   "cell_type": "code",
   "execution_count": 45,
   "metadata": {},
   "outputs": [
    {
     "name": "stdout",
     "output_type": "stream",
     "text": [
      "loss=tensor(4.3713, grad_fn=<NllLossBackward0>)\n",
      "      0/ 200000 4.3713\n"
     ]
    }
   ],
   "source": [
    "max_steps = 200000\n",
    "batch_size = 32\n",
    "lossi = []\n",
    "\n",
    "for i in range(max_steps):\n",
    "    ix = torch.randint(0, Xtr.shape[0], (batch_size,))\n",
    "    Xb, Yb = Xtr[ix], Ytr[ix]\n",
    "\n",
    "    logits = model(Xb)\n",
    "    \n",
    "    loss = F.cross_entropy(logits, Yb)\n",
    "    if i%10000==0:\n",
    "        print(f'{loss=}')\n",
    "    \n",
    "    for p in parameters:\n",
    "        p.grad = None\n",
    "\n",
    "    loss.backward()\n",
    "\n",
    "    lr = -0.1 if i <150000 else -0.01\n",
    "    for p in parameters:\n",
    "        p.data += lr * p.grad \n",
    "\n",
    "    if i % 1000 == 0:\n",
    "        print(f'{i:7d}/{max_steps:7d} {loss.item():.4f}')\n",
    "    \n",
    "    lossi.append(loss.log10().item())\n",
    "    break"
   ]
  },
  {
   "cell_type": "code",
   "execution_count": 46,
   "metadata": {},
   "outputs": [
    {
     "data": {
      "text/plain": [
       "[<matplotlib.lines.Line2D at 0x7f5374199ad0>]"
      ]
     },
     "execution_count": 46,
     "metadata": {},
     "output_type": "execute_result"
    },
    {
     "data": {
      "image/png": "[encoded data removed]",
      "text/plain": [
       "<Figure size 640x480 with 1 Axes>"
      ]
     },
     "metadata": {},
     "output_type": "display_data"
    }
   ],
   "source": [
    "plt.plot(lossi)"
   ]
  },
  {
   "cell_type": "code",
   "execution_count": null,
   "metadata": {},
   "outputs": [
    {
     "ename": "RuntimeError",
     "evalue": "shape '[-1, 1000]' is invalid for input of size 14994",
     "output_type": "error",
     "traceback": [
      "\u001b[0;31m---------------------------------------------------------------------------\u001b[0m",
      "\u001b[0;31mRuntimeError\u001b[0m                              Traceback (most recent call last)",
      "Cell \u001b[0;32mIn[22], line 1\u001b[0m\n\u001b[0;32m----> 1\u001b[0m plt\u001b[38;5;241m.\u001b[39mplot(\u001b[43mtorch\u001b[49m\u001b[38;5;241;43m.\u001b[39;49m\u001b[43mtensor\u001b[49m\u001b[43m(\u001b[49m\u001b[43mlossi\u001b[49m\u001b[43m)\u001b[49m\u001b[38;5;241;43m.\u001b[39;49m\u001b[43mview\u001b[49m\u001b[43m(\u001b[49m\u001b[38;5;241;43m-\u001b[39;49m\u001b[38;5;241;43m1\u001b[39;49m\u001b[43m,\u001b[49m\u001b[38;5;241;43m1000\u001b[39;49m\u001b[43m)\u001b[49m\u001b[38;5;241m.\u001b[39mmean(\u001b[38;5;241m1\u001b[39m))\n",
      "\u001b[0;31mRuntimeError\u001b[0m: shape '[-1, 1000]' is invalid for input of size 14994"
     ]
    }
   ],
   "source": [
    "plt.plot(torch.tensor(lossi).view(-1,1000).mean(1))"
   ]
  },
  {
   "cell_type": "code",
   "execution_count": 35,
   "metadata": {},
   "outputs": [],
   "source": [
    "for layer in model.layers:\n",
    "    layer.learning_mode = False"
   ]
  },
  {
   "cell_type": "code",
   "execution_count": 36,
   "metadata": {},
   "outputs": [
    {
     "name": "stdout",
     "output_type": "stream",
     "text": [
      "train 2.3541018962860107\n",
      "val 2.352419376373291\n"
     ]
    }
   ],
   "source": [
    "@torch.no_grad() # this decorator disables gradient tracking\n",
    "def split_loss(split):\n",
    "  x,y = {\n",
    "    'train': (Xtr, Ytr),\n",
    "    'val': (Xdev, Ydev),\n",
    "    'test': (Xte, Yte),\n",
    "  }[split]\n",
    "  logits = model(x)\n",
    "  loss = F.cross_entropy(logits, y)\n",
    "  print(split, loss.item())\n",
    "\n",
    "split_loss('train')\n",
    "split_loss('val')\n"
   ]
  },
  {
   "cell_type": "code",
   "execution_count": null,
   "metadata": {},
   "outputs": [],
   "source": []
  }
 ],
 "metadata": {
  "kernelspec": {
   "display_name": "ml",
   "language": "python",
   "name": "python3"
  },
  "language_info": {
   "codemirror_mode": {
    "name": "ipython",
    "version": 3
   },
   "file_extension": ".py",
   "mimetype": "text/x-python",
   "name": "python",
   "nbconvert_exporter": "python",
   "pygments_lexer": "ipython3",
   "version": "3.11.2"
  }
 },
 "nbformat": 4,
 "nbformat_minor": 2
}
